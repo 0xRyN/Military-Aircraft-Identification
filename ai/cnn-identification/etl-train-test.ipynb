{
 "cells": [
  {
   "cell_type": "markdown",
   "metadata": {},
   "source": [
    "## Extract, Transform and Load (ETL) Step\n",
    "\n",
    "We are going to use a custom CNN for object identification."
   ]
  },
  {
   "cell_type": "markdown",
   "metadata": {},
   "source": [
    "### Setup"
   ]
  },
  {
   "cell_type": "code",
   "execution_count": 1,
   "metadata": {},
   "outputs": [],
   "source": [
    "import os\n",
    "import random\n",
    "import time\n",
    "from dataclasses import dataclass\n",
    "from pathlib import Path\n",
    "from enum import Enum\n",
    "import shutil\n",
    "from tqdm import tqdm\n",
    "import tensorflow as tf\n",
    "import keras\n",
    "\n",
    "\n",
    "ROOT_DIR = \"datasets\\\\aircraft\"\n",
    "DATASET_DIR = \"..\\\\dataset\\\\crop\""
   ]
  },
  {
   "cell_type": "markdown",
   "metadata": {},
   "source": [
    "## Classes Mapping\n",
    "\n",
    "We also need to provide a classes mapping, here is how we do that"
   ]
  },
  {
   "cell_type": "code",
   "execution_count": 2,
   "metadata": {},
   "outputs": [
    {
     "name": "stdout",
     "output_type": "stream",
     "text": [
      "{'a10': 0, 'a400m': 1, 'ag600': 2, 'ah64': 3, 'av8b': 4, 'an124': 5, 'an22': 6, 'an225': 7, 'an72': 8, 'b1': 9, 'b2': 10, 'b21': 11, 'b52': 12, 'be200': 13, 'c130': 14, 'c17': 15, 'c2': 16, 'c390': 17, 'c5': 18, 'ch47': 19, 'cl415': 20, 'e2': 21, 'e7': 22, 'ef2000': 23, 'f117': 24, 'f14': 25, 'f15': 26, 'f16': 27, 'f22': 28, 'f35': 29, 'f4': 30, 'f18': 31, 'h6': 32, 'j10': 33, 'j20': 34, 'jas39': 35, 'jf17': 36, 'jh7': 37, 'kc135': 38, 'kf21': 39, 'kj600': 40, 'ka27': 41, 'ka52': 42, 'mq9': 43, 'mi24': 44, 'mi26': 45, 'mi28': 46, 'mig29': 47, 'mig31': 48, 'mirage2000': 49, 'p3': 50, 'rq4': 51, 'rafale': 52, 'sr71': 53, 'su24': 54, 'su25': 55, 'su34': 56, 'su57': 57, 'tb001': 58, 'tb2': 59, 'tornado': 60, 'tu160': 61, 'tu22m': 62, 'tu95': 63, 'u2': 64, 'uh60': 65, 'us2': 66, 'v22': 67, 'vulcan': 68, 'wz7': 69, 'xb70': 70, 'y20': 71, 'yf23': 72, 'z19': 73}\n"
     ]
    }
   ],
   "source": [
    "CLASSES_RAW = [\n",
    "    \"a10\",\n",
    "    \"a400m\",\n",
    "    \"ag600\",\n",
    "    \"ah64\",\n",
    "    \"av8b\",\n",
    "    \"an124\",\n",
    "    \"an22\",\n",
    "    \"an225\",\n",
    "    \"an72\",\n",
    "    \"b1\",\n",
    "    \"b2\",\n",
    "    \"b21\",\n",
    "    \"b52\",\n",
    "    \"be200\",\n",
    "    \"c130\",\n",
    "    \"c17\",\n",
    "    \"c2\",\n",
    "    \"c390\",\n",
    "    \"c5\",\n",
    "    \"ch47\",\n",
    "    \"cl415\",\n",
    "    \"e2\",\n",
    "    \"e7\",\n",
    "    \"ef2000\",\n",
    "    \"f117\",\n",
    "    \"f14\",\n",
    "    \"f15\",\n",
    "    \"f16\",\n",
    "    \"f22\",\n",
    "    \"f35\",\n",
    "    \"f4\",\n",
    "    # IN DATA AS F18\n",
    "    \"f18\",\n",
    "    \"h6\",\n",
    "    \"j10\",\n",
    "    \"j20\",\n",
    "    \"jas39\",\n",
    "    \"jf17\",\n",
    "    \"jh7\",\n",
    "    \"kc135\",\n",
    "    \"kf21\",\n",
    "    \"kj600\",\n",
    "    \"ka27\",\n",
    "    \"ka52\",\n",
    "    \"mq9\",\n",
    "    \"mi24\",\n",
    "    \"mi26\",\n",
    "    \"mi28\",\n",
    "    \"mig29\",\n",
    "    \"mig31\",\n",
    "    \"mirage2000\",\n",
    "    \"p3\",\n",
    "    \"rq4\",\n",
    "    \"rafale\",\n",
    "    \"sr71\",\n",
    "    \"su24\",\n",
    "    \"su25\",\n",
    "    \"su34\",\n",
    "    \"su57\",\n",
    "    \"tb001\",\n",
    "    \"tb2\",\n",
    "    \"tornado\",\n",
    "    \"tu160\",\n",
    "    \"tu22m\",\n",
    "    \"tu95\",\n",
    "    \"u2\",\n",
    "    \"uh60\",\n",
    "    \"us2\",\n",
    "    \"v22\",\n",
    "    \"vulcan\",\n",
    "    \"wz7\",\n",
    "    \"xb70\",\n",
    "    \"y20\",\n",
    "    \"yf23\",\n",
    "    \"z19\"\n",
    "]\n",
    "\n",
    "CLASSES = {model: i for i, model in enumerate(CLASSES_RAW)}\n",
    "\n",
    "def get_class_id(class_str: str):\n",
    "    return CLASSES[class_str.lower()]\n",
    "\n",
    "print(CLASSES)"
   ]
  },
  {
   "cell_type": "markdown",
   "metadata": {},
   "source": [
    "### Defining Dataset Constants"
   ]
  },
  {
   "cell_type": "code",
   "execution_count": 3,
   "metadata": {},
   "outputs": [],
   "source": [
    "IMG_WIDTH = 256 # Keras default\n",
    "IMG_HEIGHT = 256 # Keras default\n",
    "IMG_CHANNELS = 3 # RGB\n",
    "\n",
    "BATCH_SIZE = 32"
   ]
  },
  {
   "cell_type": "markdown",
   "metadata": {},
   "source": [
    "### Extracting the Dataset\n",
    "\n",
    "We need to first extract the x and y data from the dataset (image paths and labels).\n",
    "\n",
    "### Splitting the Dataset\n",
    "\n",
    "We need to split out dataset into three parts, train, validation and test.\n",
    "\n",
    "We're going to use (80%, 10%, 10%) repartition for now."
   ]
  },
  {
   "cell_type": "code",
   "execution_count": 4,
   "metadata": {},
   "outputs": [
    {
     "name": "stderr",
     "output_type": "stream",
     "text": [
      "100%|██████████| 74/74 [00:00<00:00, 865.22it/s]\n"
     ]
    },
    {
     "name": "stdout",
     "output_type": "stream",
     "text": [
      "Found 31917 aircraft images\n"
     ]
    },
    {
     "name": "stderr",
     "output_type": "stream",
     "text": [
      "100%|██████████| 31917/31917 [00:00<00:00, 1387781.85it/s]"
     ]
    },
    {
     "name": "stdout",
     "output_type": "stream",
     "text": [
      "Train: 25732\n",
      "Validation: 3161\n",
      "Test: 3024\n"
     ]
    },
    {
     "name": "stderr",
     "output_type": "stream",
     "text": [
      "\n"
     ]
    }
   ],
   "source": [
    "def split_dataset(paths: list[str], classes: list[int], seed: int = None) -> tuple[list[str], list[int], list[str], list[int], list[str], list[int]]:\n",
    "    x_train = []\n",
    "    y_train = []\n",
    "    x_val = []\n",
    "    y_val = []\n",
    "    x_test = []\n",
    "    y_test = []\n",
    "\n",
    "    if not seed:\n",
    "        seed = time.time()\n",
    "\n",
    "    random.seed(seed)\n",
    "\n",
    "    for i in tqdm(range(len(paths))):\n",
    "        rand = random.randint(1, 10)\n",
    "\n",
    "        # Validation (10%)\n",
    "        if rand == 9:\n",
    "            x_val.append(paths[i])\n",
    "            y_val.append(classes[i])\n",
    "\n",
    "        # Test (10%)\n",
    "        elif rand == 10:\n",
    "            x_test.append(paths[i])\n",
    "            y_test.append(classes[i])\n",
    "\n",
    "        # Train (80%)\n",
    "        else:\n",
    "            x_train.append(paths[i])\n",
    "            y_train.append(classes[i])\n",
    "\n",
    "    return x_train, y_train, x_val, y_val, x_test, y_test\n",
    "\n",
    "def extract_dataset(dataset_dir: str = DATASET_DIR, seed: int = None) -> None:\n",
    "    aircraft_filepaths = []\n",
    "    aircraft_classes = []\n",
    "    for aircraft_dir in tqdm(os.listdir(dataset_dir)):\n",
    "        aircraft_class = get_class_id(aircraft_dir)\n",
    "\n",
    "        dir_path = os.path.join(dataset_dir, aircraft_dir)\n",
    "        \n",
    "        for aircraft_img in os.listdir(dir_path):\n",
    "            aircraft_img_path = os.path.join(dir_path, aircraft_img)\n",
    "\n",
    "            aircraft_filepaths.append(aircraft_img_path)\n",
    "            aircraft_classes.append(aircraft_class)\n",
    "\n",
    "    print(f\"Found {len(aircraft_filepaths)} aircraft images\")\n",
    "\n",
    "    return aircraft_filepaths, aircraft_classes\n",
    "\n",
    "paths, classes = extract_dataset()\n",
    "\n",
    "x_train, y_train, x_val, y_val, x_test, y_test = split_dataset(paths, classes)\n",
    "\n",
    "print(f\"Train: {len(x_train)}\")\n",
    "print(f\"Validation: {len(x_val)}\")\n",
    "print(f\"Test: {len(x_test)}\")"
   ]
  },
  {
   "cell_type": "markdown",
   "metadata": {},
   "source": [
    "### Transforming the Dataset\n",
    "\n",
    "We need to transform the dataset into a format that can be used by the model.\n",
    "\n",
    "This includes\n",
    "\n",
    "- Loading the images as tensors\n",
    "- Resizing the images\n",
    "- Normalizing the images (done later by the model)\n",
    "\n",
    "### Lazy Loading and Tensorflow Datasets\n",
    "\n",
    "We're going to use the `tf.data.Dataset` API to load the images lazily.\n",
    "\n",
    "This is done to avoid loading all the images into RAM at once (10GB+ of images).\n",
    "\n",
    "We also need to shuffle the dataset to avoid biasing the model since the images are ordered by class.\n",
    "\n",
    "Notes:\n",
    "\n",
    "- We're going to use a batch size of 32 for now\n",
    "- We're going to use a prefetch buffer, automatically tuned by Tensorflow\n"
   ]
  },
  {
   "cell_type": "code",
   "execution_count": 5,
   "metadata": {},
   "outputs": [],
   "source": [
    "class AircraftDataGenerator:\n",
    "    def __init__(self, filepaths: list[str], classes: list[int], batch_size: int = BATCH_SIZE):\n",
    "        self.filepaths = filepaths\n",
    "        self.classes = classes\n",
    "        self.batch_size = batch_size\n",
    "\n",
    "    def load_image(self, filepath: str) -> tf.Tensor:\n",
    "        image = tf.io.read_file(filepath)\n",
    "        image = tf.image.decode_jpeg(image, channels=3)\n",
    "        image = tf.image.resize(image, [IMG_WIDTH, IMG_HEIGHT])\n",
    "        return image\n",
    "\n",
    "    def create_dataset(self) -> tf.data.Dataset:\n",
    "        dataset = tf.data.Dataset.from_tensor_slices((self.filepaths, self.classes))\n",
    "\n",
    "        dataset = dataset.shuffle(buffer_size=len(self.filepaths))\n",
    "        \n",
    "        dataset = dataset.map(lambda x, y: (self.load_image(x), y), \n",
    "                            num_parallel_calls=tf.data.AUTOTUNE)\n",
    "        \n",
    "        \n",
    "        dataset = dataset.batch(self.batch_size)\n",
    "\n",
    "        dataset = dataset.prefetch(tf.data.AUTOTUNE)\n",
    "        return dataset\n",
    "    \n",
    "train_generator = AircraftDataGenerator(x_train, y_train)\n",
    "val_generator = AircraftDataGenerator(x_val, y_val)\n",
    "test_generator = AircraftDataGenerator(x_test, y_test)\n",
    "\n",
    "train_dataset = train_generator.create_dataset()\n",
    "val_dataset = val_generator.create_dataset()\n",
    "test_dataset = test_generator.create_dataset()"
   ]
  },
  {
   "cell_type": "markdown",
   "metadata": {},
   "source": [
    "### Building the Model\n",
    "\n"
   ]
  },
  {
   "cell_type": "code",
   "execution_count": null,
   "metadata": {},
   "outputs": [
    {
     "data": {
      "text/html": [
       "<pre style=\"white-space:pre;overflow-x:auto;line-height:normal;font-family:Menlo,'DejaVu Sans Mono',consolas,'Courier New',monospace\"><span style=\"font-weight: bold\">Model: \"sequential_4\"</span>\n",
       "</pre>\n"
      ],
      "text/plain": [
       "\u001b[1mModel: \"sequential_4\"\u001b[0m\n"
      ]
     },
     "metadata": {},
     "output_type": "display_data"
    },
    {
     "data": {
      "text/html": [
       "<pre style=\"white-space:pre;overflow-x:auto;line-height:normal;font-family:Menlo,'DejaVu Sans Mono',consolas,'Courier New',monospace\">┏━━━━━━━━━━━━━━━━━━━━━━━━━━━━━━━━━┳━━━━━━━━━━━━━━━━━━━━━━━━┳━━━━━━━━━━━━━━━┓\n",
       "┃<span style=\"font-weight: bold\"> Layer (type)                    </span>┃<span style=\"font-weight: bold\"> Output Shape           </span>┃<span style=\"font-weight: bold\">       Param # </span>┃\n",
       "┡━━━━━━━━━━━━━━━━━━━━━━━━━━━━━━━━━╇━━━━━━━━━━━━━━━━━━━━━━━━╇━━━━━━━━━━━━━━━┩\n",
       "│ rescaling_3 (<span style=\"color: #0087ff; text-decoration-color: #0087ff\">Rescaling</span>)         │ (<span style=\"color: #00d7ff; text-decoration-color: #00d7ff\">None</span>, <span style=\"color: #00af00; text-decoration-color: #00af00\">256</span>, <span style=\"color: #00af00; text-decoration-color: #00af00\">256</span>, <span style=\"color: #00af00; text-decoration-color: #00af00\">3</span>)    │             <span style=\"color: #00af00; text-decoration-color: #00af00\">0</span> │\n",
       "├─────────────────────────────────┼────────────────────────┼───────────────┤\n",
       "│ conv2d_12 (<span style=\"color: #0087ff; text-decoration-color: #0087ff\">Conv2D</span>)              │ (<span style=\"color: #00d7ff; text-decoration-color: #00d7ff\">None</span>, <span style=\"color: #00af00; text-decoration-color: #00af00\">254</span>, <span style=\"color: #00af00; text-decoration-color: #00af00\">254</span>, <span style=\"color: #00af00; text-decoration-color: #00af00\">32</span>)   │           <span style=\"color: #00af00; text-decoration-color: #00af00\">896</span> │\n",
       "├─────────────────────────────────┼────────────────────────┼───────────────┤\n",
       "│ max_pooling2d_12 (<span style=\"color: #0087ff; text-decoration-color: #0087ff\">MaxPooling2D</span>) │ (<span style=\"color: #00d7ff; text-decoration-color: #00d7ff\">None</span>, <span style=\"color: #00af00; text-decoration-color: #00af00\">127</span>, <span style=\"color: #00af00; text-decoration-color: #00af00\">127</span>, <span style=\"color: #00af00; text-decoration-color: #00af00\">32</span>)   │             <span style=\"color: #00af00; text-decoration-color: #00af00\">0</span> │\n",
       "├─────────────────────────────────┼────────────────────────┼───────────────┤\n",
       "│ conv2d_13 (<span style=\"color: #0087ff; text-decoration-color: #0087ff\">Conv2D</span>)              │ (<span style=\"color: #00d7ff; text-decoration-color: #00d7ff\">None</span>, <span style=\"color: #00af00; text-decoration-color: #00af00\">125</span>, <span style=\"color: #00af00; text-decoration-color: #00af00\">125</span>, <span style=\"color: #00af00; text-decoration-color: #00af00\">32</span>)   │         <span style=\"color: #00af00; text-decoration-color: #00af00\">9,248</span> │\n",
       "├─────────────────────────────────┼────────────────────────┼───────────────┤\n",
       "│ max_pooling2d_13 (<span style=\"color: #0087ff; text-decoration-color: #0087ff\">MaxPooling2D</span>) │ (<span style=\"color: #00d7ff; text-decoration-color: #00d7ff\">None</span>, <span style=\"color: #00af00; text-decoration-color: #00af00\">62</span>, <span style=\"color: #00af00; text-decoration-color: #00af00\">62</span>, <span style=\"color: #00af00; text-decoration-color: #00af00\">32</span>)     │             <span style=\"color: #00af00; text-decoration-color: #00af00\">0</span> │\n",
       "├─────────────────────────────────┼────────────────────────┼───────────────┤\n",
       "│ conv2d_14 (<span style=\"color: #0087ff; text-decoration-color: #0087ff\">Conv2D</span>)              │ (<span style=\"color: #00d7ff; text-decoration-color: #00d7ff\">None</span>, <span style=\"color: #00af00; text-decoration-color: #00af00\">60</span>, <span style=\"color: #00af00; text-decoration-color: #00af00\">60</span>, <span style=\"color: #00af00; text-decoration-color: #00af00\">32</span>)     │         <span style=\"color: #00af00; text-decoration-color: #00af00\">9,248</span> │\n",
       "├─────────────────────────────────┼────────────────────────┼───────────────┤\n",
       "│ max_pooling2d_14 (<span style=\"color: #0087ff; text-decoration-color: #0087ff\">MaxPooling2D</span>) │ (<span style=\"color: #00d7ff; text-decoration-color: #00d7ff\">None</span>, <span style=\"color: #00af00; text-decoration-color: #00af00\">30</span>, <span style=\"color: #00af00; text-decoration-color: #00af00\">30</span>, <span style=\"color: #00af00; text-decoration-color: #00af00\">32</span>)     │             <span style=\"color: #00af00; text-decoration-color: #00af00\">0</span> │\n",
       "├─────────────────────────────────┼────────────────────────┼───────────────┤\n",
       "│ flatten_4 (<span style=\"color: #0087ff; text-decoration-color: #0087ff\">Flatten</span>)             │ (<span style=\"color: #00d7ff; text-decoration-color: #00d7ff\">None</span>, <span style=\"color: #00af00; text-decoration-color: #00af00\">28800</span>)          │             <span style=\"color: #00af00; text-decoration-color: #00af00\">0</span> │\n",
       "├─────────────────────────────────┼────────────────────────┼───────────────┤\n",
       "│ dropout_1 (<span style=\"color: #0087ff; text-decoration-color: #0087ff\">Dropout</span>)             │ (<span style=\"color: #00d7ff; text-decoration-color: #00d7ff\">None</span>, <span style=\"color: #00af00; text-decoration-color: #00af00\">28800</span>)          │             <span style=\"color: #00af00; text-decoration-color: #00af00\">0</span> │\n",
       "├─────────────────────────────────┼────────────────────────┼───────────────┤\n",
       "│ dense_8 (<span style=\"color: #0087ff; text-decoration-color: #0087ff\">Dense</span>)                 │ (<span style=\"color: #00d7ff; text-decoration-color: #00d7ff\">None</span>, <span style=\"color: #00af00; text-decoration-color: #00af00\">128</span>)            │     <span style=\"color: #00af00; text-decoration-color: #00af00\">3,686,528</span> │\n",
       "├─────────────────────────────────┼────────────────────────┼───────────────┤\n",
       "│ dense_9 (<span style=\"color: #0087ff; text-decoration-color: #0087ff\">Dense</span>)                 │ (<span style=\"color: #00d7ff; text-decoration-color: #00d7ff\">None</span>, <span style=\"color: #00af00; text-decoration-color: #00af00\">74</span>)             │         <span style=\"color: #00af00; text-decoration-color: #00af00\">9,546</span> │\n",
       "└─────────────────────────────────┴────────────────────────┴───────────────┘\n",
       "</pre>\n"
      ],
      "text/plain": [
       "┏━━━━━━━━━━━━━━━━━━━━━━━━━━━━━━━━━┳━━━━━━━━━━━━━━━━━━━━━━━━┳━━━━━━━━━━━━━━━┓\n",
       "┃\u001b[1m \u001b[0m\u001b[1mLayer (type)                   \u001b[0m\u001b[1m \u001b[0m┃\u001b[1m \u001b[0m\u001b[1mOutput Shape          \u001b[0m\u001b[1m \u001b[0m┃\u001b[1m \u001b[0m\u001b[1m      Param #\u001b[0m\u001b[1m \u001b[0m┃\n",
       "┡━━━━━━━━━━━━━━━━━━━━━━━━━━━━━━━━━╇━━━━━━━━━━━━━━━━━━━━━━━━╇━━━━━━━━━━━━━━━┩\n",
       "│ rescaling_3 (\u001b[38;5;33mRescaling\u001b[0m)         │ (\u001b[38;5;45mNone\u001b[0m, \u001b[38;5;34m256\u001b[0m, \u001b[38;5;34m256\u001b[0m, \u001b[38;5;34m3\u001b[0m)    │             \u001b[38;5;34m0\u001b[0m │\n",
       "├─────────────────────────────────┼────────────────────────┼───────────────┤\n",
       "│ conv2d_12 (\u001b[38;5;33mConv2D\u001b[0m)              │ (\u001b[38;5;45mNone\u001b[0m, \u001b[38;5;34m254\u001b[0m, \u001b[38;5;34m254\u001b[0m, \u001b[38;5;34m32\u001b[0m)   │           \u001b[38;5;34m896\u001b[0m │\n",
       "├─────────────────────────────────┼────────────────────────┼───────────────┤\n",
       "│ max_pooling2d_12 (\u001b[38;5;33mMaxPooling2D\u001b[0m) │ (\u001b[38;5;45mNone\u001b[0m, \u001b[38;5;34m127\u001b[0m, \u001b[38;5;34m127\u001b[0m, \u001b[38;5;34m32\u001b[0m)   │             \u001b[38;5;34m0\u001b[0m │\n",
       "├─────────────────────────────────┼────────────────────────┼───────────────┤\n",
       "│ conv2d_13 (\u001b[38;5;33mConv2D\u001b[0m)              │ (\u001b[38;5;45mNone\u001b[0m, \u001b[38;5;34m125\u001b[0m, \u001b[38;5;34m125\u001b[0m, \u001b[38;5;34m32\u001b[0m)   │         \u001b[38;5;34m9,248\u001b[0m │\n",
       "├─────────────────────────────────┼────────────────────────┼───────────────┤\n",
       "│ max_pooling2d_13 (\u001b[38;5;33mMaxPooling2D\u001b[0m) │ (\u001b[38;5;45mNone\u001b[0m, \u001b[38;5;34m62\u001b[0m, \u001b[38;5;34m62\u001b[0m, \u001b[38;5;34m32\u001b[0m)     │             \u001b[38;5;34m0\u001b[0m │\n",
       "├─────────────────────────────────┼────────────────────────┼───────────────┤\n",
       "│ conv2d_14 (\u001b[38;5;33mConv2D\u001b[0m)              │ (\u001b[38;5;45mNone\u001b[0m, \u001b[38;5;34m60\u001b[0m, \u001b[38;5;34m60\u001b[0m, \u001b[38;5;34m32\u001b[0m)     │         \u001b[38;5;34m9,248\u001b[0m │\n",
       "├─────────────────────────────────┼────────────────────────┼───────────────┤\n",
       "│ max_pooling2d_14 (\u001b[38;5;33mMaxPooling2D\u001b[0m) │ (\u001b[38;5;45mNone\u001b[0m, \u001b[38;5;34m30\u001b[0m, \u001b[38;5;34m30\u001b[0m, \u001b[38;5;34m32\u001b[0m)     │             \u001b[38;5;34m0\u001b[0m │\n",
       "├─────────────────────────────────┼────────────────────────┼───────────────┤\n",
       "│ flatten_4 (\u001b[38;5;33mFlatten\u001b[0m)             │ (\u001b[38;5;45mNone\u001b[0m, \u001b[38;5;34m28800\u001b[0m)          │             \u001b[38;5;34m0\u001b[0m │\n",
       "├─────────────────────────────────┼────────────────────────┼───────────────┤\n",
       "│ dropout_1 (\u001b[38;5;33mDropout\u001b[0m)             │ (\u001b[38;5;45mNone\u001b[0m, \u001b[38;5;34m28800\u001b[0m)          │             \u001b[38;5;34m0\u001b[0m │\n",
       "├─────────────────────────────────┼────────────────────────┼───────────────┤\n",
       "│ dense_8 (\u001b[38;5;33mDense\u001b[0m)                 │ (\u001b[38;5;45mNone\u001b[0m, \u001b[38;5;34m128\u001b[0m)            │     \u001b[38;5;34m3,686,528\u001b[0m │\n",
       "├─────────────────────────────────┼────────────────────────┼───────────────┤\n",
       "│ dense_9 (\u001b[38;5;33mDense\u001b[0m)                 │ (\u001b[38;5;45mNone\u001b[0m, \u001b[38;5;34m74\u001b[0m)             │         \u001b[38;5;34m9,546\u001b[0m │\n",
       "└─────────────────────────────────┴────────────────────────┴───────────────┘\n"
      ]
     },
     "metadata": {},
     "output_type": "display_data"
    },
    {
     "data": {
      "text/html": [
       "<pre style=\"white-space:pre;overflow-x:auto;line-height:normal;font-family:Menlo,'DejaVu Sans Mono',consolas,'Courier New',monospace\"><span style=\"font-weight: bold\"> Total params: </span><span style=\"color: #00af00; text-decoration-color: #00af00\">3,715,466</span> (14.17 MB)\n",
       "</pre>\n"
      ],
      "text/plain": [
       "\u001b[1m Total params: \u001b[0m\u001b[38;5;34m3,715,466\u001b[0m (14.17 MB)\n"
      ]
     },
     "metadata": {},
     "output_type": "display_data"
    },
    {
     "data": {
      "text/html": [
       "<pre style=\"white-space:pre;overflow-x:auto;line-height:normal;font-family:Menlo,'DejaVu Sans Mono',consolas,'Courier New',monospace\"><span style=\"font-weight: bold\"> Trainable params: </span><span style=\"color: #00af00; text-decoration-color: #00af00\">3,715,466</span> (14.17 MB)\n",
       "</pre>\n"
      ],
      "text/plain": [
       "\u001b[1m Trainable params: \u001b[0m\u001b[38;5;34m3,715,466\u001b[0m (14.17 MB)\n"
      ]
     },
     "metadata": {},
     "output_type": "display_data"
    },
    {
     "data": {
      "text/html": [
       "<pre style=\"white-space:pre;overflow-x:auto;line-height:normal;font-family:Menlo,'DejaVu Sans Mono',consolas,'Courier New',monospace\"><span style=\"font-weight: bold\"> Non-trainable params: </span><span style=\"color: #00af00; text-decoration-color: #00af00\">0</span> (0.00 B)\n",
       "</pre>\n"
      ],
      "text/plain": [
       "\u001b[1m Non-trainable params: \u001b[0m\u001b[38;5;34m0\u001b[0m (0.00 B)\n"
      ]
     },
     "metadata": {},
     "output_type": "display_data"
    },
    {
     "name": "stdout",
     "output_type": "stream",
     "text": [
      "Epoch 1/20\n",
      "\u001b[1m800/800\u001b[0m \u001b[32m━━━━━━━━━━━━━━━━━━━━\u001b[0m\u001b[37m\u001b[0m \u001b[1m189s\u001b[0m 235ms/step - accuracy: 0.0507 - loss: 4.1057 - val_accuracy: 0.0816 - val_loss: 3.8853\n",
      "Epoch 2/20\n",
      "\u001b[1m800/800\u001b[0m \u001b[32m━━━━━━━━━━━━━━━━━━━━\u001b[0m\u001b[37m\u001b[0m \u001b[1m184s\u001b[0m 230ms/step - accuracy: 0.1221 - loss: 3.7063 - val_accuracy: 0.1700 - val_loss: 3.5151\n",
      "Epoch 3/20\n",
      "\u001b[1m800/800\u001b[0m \u001b[32m━━━━━━━━━━━━━━━━━━━━\u001b[0m\u001b[37m\u001b[0m \u001b[1m185s\u001b[0m 231ms/step - accuracy: 0.2444 - loss: 3.1014 - val_accuracy: 0.2258 - val_loss: 3.3727\n",
      "Epoch 4/20\n",
      "\u001b[1m800/800\u001b[0m \u001b[32m━━━━━━━━━━━━━━━━━━━━\u001b[0m\u001b[37m\u001b[0m \u001b[1m185s\u001b[0m 231ms/step - accuracy: 0.3731 - loss: 2.4472 - val_accuracy: 0.2418 - val_loss: 3.4662\n",
      "Epoch 5/20\n",
      "\u001b[1m800/800\u001b[0m \u001b[32m━━━━━━━━━━━━━━━━━━━━\u001b[0m\u001b[37m\u001b[0m \u001b[1m185s\u001b[0m 231ms/step - accuracy: 0.5024 - loss: 1.8862 - val_accuracy: 0.2638 - val_loss: 3.6750\n",
      "Epoch 6/20\n",
      "\u001b[1m800/800\u001b[0m \u001b[32m━━━━━━━━━━━━━━━━━━━━\u001b[0m\u001b[37m\u001b[0m \u001b[1m184s\u001b[0m 230ms/step - accuracy: 0.6124 - loss: 1.4445 - val_accuracy: 0.2610 - val_loss: 3.8860\n",
      "Epoch 7/20\n",
      "\u001b[1m800/800\u001b[0m \u001b[32m━━━━━━━━━━━━━━━━━━━━\u001b[0m\u001b[37m\u001b[0m \u001b[1m185s\u001b[0m 231ms/step - accuracy: 0.6758 - loss: 1.1629 - val_accuracy: 0.2604 - val_loss: 4.3237\n",
      "Epoch 8/20\n",
      "\u001b[1m800/800\u001b[0m \u001b[32m━━━━━━━━━━━━━━━━━━━━\u001b[0m\u001b[37m\u001b[0m \u001b[1m184s\u001b[0m 231ms/step - accuracy: 0.7339 - loss: 0.9157 - val_accuracy: 0.2676 - val_loss: 4.8006\n",
      "Epoch 9/20\n",
      "\u001b[1m800/800\u001b[0m \u001b[32m━━━━━━━━━━━━━━━━━━━━\u001b[0m\u001b[37m\u001b[0m \u001b[1m185s\u001b[0m 231ms/step - accuracy: 0.7710 - loss: 0.7756 - val_accuracy: 0.2669 - val_loss: 5.4365\n",
      "Epoch 10/20\n",
      "\u001b[1m800/800\u001b[0m \u001b[32m━━━━━━━━━━━━━━━━━━━━\u001b[0m\u001b[37m\u001b[0m \u001b[1m185s\u001b[0m 231ms/step - accuracy: 0.8015 - loss: 0.6612 - val_accuracy: 0.2660 - val_loss: 5.5581\n",
      "Epoch 11/20\n",
      "\u001b[1m800/800\u001b[0m \u001b[32m━━━━━━━━━━━━━━━━━━━━\u001b[0m\u001b[37m\u001b[0m \u001b[1m185s\u001b[0m 231ms/step - accuracy: 0.8304 - loss: 0.5730 - val_accuracy: 0.2607 - val_loss: 6.0041\n",
      "Epoch 12/20\n",
      "\u001b[1m800/800\u001b[0m \u001b[32m━━━━━━━━━━━━━━━━━━━━\u001b[0m\u001b[37m\u001b[0m \u001b[1m185s\u001b[0m 231ms/step - accuracy: 0.8559 - loss: 0.4845 - val_accuracy: 0.2625 - val_loss: 6.3506\n",
      "Epoch 13/20\n",
      "\u001b[1m800/800\u001b[0m \u001b[32m━━━━━━━━━━━━━━━━━━━━\u001b[0m\u001b[37m\u001b[0m \u001b[1m185s\u001b[0m 231ms/step - accuracy: 0.8666 - loss: 0.4398 - val_accuracy: 0.2688 - val_loss: 6.6897\n",
      "Epoch 14/20\n",
      "\u001b[1m800/800\u001b[0m \u001b[32m━━━━━━━━━━━━━━━━━━━━\u001b[0m\u001b[37m\u001b[0m \u001b[1m185s\u001b[0m 231ms/step - accuracy: 0.8720 - loss: 0.4195 - val_accuracy: 0.2738 - val_loss: 7.3366\n",
      "Epoch 15/20\n",
      "\u001b[1m800/800\u001b[0m \u001b[32m━━━━━━━━━━━━━━━━━━━━\u001b[0m\u001b[37m\u001b[0m \u001b[1m185s\u001b[0m 231ms/step - accuracy: 0.8959 - loss: 0.3421 - val_accuracy: 0.2694 - val_loss: 7.3228\n",
      "Epoch 16/20\n",
      "\u001b[1m800/800\u001b[0m \u001b[32m━━━━━━━━━━━━━━━━━━━━\u001b[0m\u001b[37m\u001b[0m \u001b[1m185s\u001b[0m 231ms/step - accuracy: 0.9016 - loss: 0.3335 - val_accuracy: 0.2622 - val_loss: 7.4078\n",
      "Epoch 17/20\n",
      "\u001b[1m800/800\u001b[0m \u001b[32m━━━━━━━━━━━━━━━━━━━━\u001b[0m\u001b[37m\u001b[0m \u001b[1m185s\u001b[0m 231ms/step - accuracy: 0.9162 - loss: 0.2750 - val_accuracy: 0.2726 - val_loss: 7.8811\n",
      "Epoch 18/20\n",
      "\u001b[1m800/800\u001b[0m \u001b[32m━━━━━━━━━━━━━━━━━━━━\u001b[0m\u001b[37m\u001b[0m \u001b[1m186s\u001b[0m 232ms/step - accuracy: 0.9118 - loss: 0.2922 - val_accuracy: 0.2811 - val_loss: 8.4015\n",
      "Epoch 19/20\n",
      "\u001b[1m800/800\u001b[0m \u001b[32m━━━━━━━━━━━━━━━━━━━━\u001b[0m\u001b[37m\u001b[0m \u001b[1m185s\u001b[0m 231ms/step - accuracy: 0.9257 - loss: 0.2512 - val_accuracy: 0.2785 - val_loss: 7.9006\n",
      "Epoch 20/20\n",
      "\u001b[1m800/800\u001b[0m \u001b[32m━━━━━━━━━━━━━━━━━━━━\u001b[0m\u001b[37m\u001b[0m \u001b[1m185s\u001b[0m 231ms/step - accuracy: 0.9347 - loss: 0.2158 - val_accuracy: 0.2770 - val_loss: 8.3391\n",
      "\u001b[1m99/99\u001b[0m \u001b[32m━━━━━━━━━━━━━━━━━━━━\u001b[0m\u001b[37m\u001b[0m \u001b[1m7s\u001b[0m 68ms/step - accuracy: 0.2779 - loss: 8.3266\n"
     ]
    },
    {
     "name": "stderr",
     "output_type": "stream",
     "text": [
      "WARNING:absl:You are saving your model as an HDF5 file via `model.save()` or `keras.saving.save_model(model)`. This file format is considered legacy. We recommend using instead the native Keras format, e.g. `model.save('my_model.keras')` or `keras.saving.save_model(model, 'my_model.keras')`. \n"
     ]
    },
    {
     "name": "stdout",
     "output_type": "stream",
     "text": [
      "Model saved\n"
     ]
    }
   ],
   "source": [
    "model = keras.Sequential([\n",
    "    keras.layers.Rescaling(1./255, input_shape=(IMG_HEIGHT, IMG_WIDTH, 3)),\n",
    "    keras.layers.Conv2D(32, 3, activation='relu'),\n",
    "    keras.layers.MaxPooling2D(),\n",
    "    keras.layers.Conv2D(32, 3, activation='relu'),\n",
    "    keras.layers.MaxPooling2D(),\n",
    "    keras.layers.Conv2D(32, 3, activation='relu'),\n",
    "    keras.layers.MaxPooling2D(),\n",
    "    keras.layers.Flatten(),\n",
    "    keras.layers.Dropout(0.2),\n",
    "    keras.layers.Dense(128, activation='relu'),\n",
    "    keras.layers.Dense(len(CLASSES), activation='softmax')\n",
    "])\n",
    "\n",
    "model.compile(optimizer='adam',\n",
    "                loss='sparse_categorical_crossentropy',\n",
    "                metrics=['accuracy'])\n",
    "\n",
    "model.summary()\n",
    "\n",
    "model.fit(train_dataset, validation_data=val_dataset, epochs=20)\n",
    "\n",
    "model.evaluate(test_dataset)\n",
    "\n",
    "model.save(\"identification.keras\")\n",
    "\n",
    "print(\"Model saved\")"
   ]
  }
 ],
 "metadata": {
  "kernelspec": {
   "display_name": "Python 3",
   "language": "python",
   "name": "python3"
  },
  "language_info": {
   "codemirror_mode": {
    "name": "ipython",
    "version": 3
   },
   "file_extension": ".py",
   "mimetype": "text/x-python",
   "name": "python",
   "nbconvert_exporter": "python",
   "pygments_lexer": "ipython3",
   "version": "3.12.1"
  }
 },
 "nbformat": 4,
 "nbformat_minor": 2
}
